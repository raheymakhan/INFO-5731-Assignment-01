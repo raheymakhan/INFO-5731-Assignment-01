{
 "cells": [
  {
   "cell_type": "markdown",
   "metadata": {
    "colab_type": "text",
    "id": "Ryk8D1Q4Wsrp"
   },
   "source": [
    "# **INFO5731 Assignment One**"
   ]
  },
  {
   "cell_type": "markdown",
   "metadata": {
    "colab_type": "text",
    "id": "90_NR8c5XGWc"
   },
   "source": [
    "# Question 1\n",
    "\n",
    "(20 points). Write a Python program to generate 12 random numbers between 1 and 100. Sort the list of numbers in ascending order and print it out. Sort the list of numbers in descending order and print it out. Calculate the average for the group and print it out."
   ]
  },
  {
   "cell_type": "code",
   "execution_count": 46,
   "metadata": {
    "colab": {},
    "colab_type": "code",
    "id": "5QX6bJjGWXY9"
   },
   "outputs": [
    {
     "name": "stdout",
     "output_type": "stream",
     "text": [
      "The 12 random numbers between 1 and 100 are: [44, 23, 34, 95, 59, 90, 21, 65, 13, 80, 79, 90]\n",
      "The numbers in ascending order are: [13, 21, 23, 34, 44, 59, 65, 79, 80, 90, 90, 95]\n",
      "The numbers in descending order are: [95, 90, 90, 80, 79, 65, 59, 44, 34, 23, 21, 13]\n",
      "The average for the group is: 57.75\n"
     ]
    }
   ],
   "source": [
    "# Your code here\n",
    "import random\n",
    "\n",
    "def random_numbers():\n",
    "    numbers = []\n",
    "    for x in range(12):\n",
    "        numbers.append(random.randint(1,100))\n",
    "    print ('The 12 random numbers between 1 and 100 are:', numbers)\n",
    "    ascending = sorted(numbers)\n",
    "    descending = sorted(numbers, reverse = True)\n",
    "    average = sum(numbers)/len(numbers)\n",
    "    print('The numbers in ascending order are:', ascending) \n",
    "    print('The numbers in descending order are:', descending)\n",
    "    print('The average for the group is:', average)\n",
    "    \n",
    "random_numbers()"
   ]
  },
  {
   "cell_type": "markdown",
   "metadata": {
    "colab_type": "text",
    "id": "1F_PZdH9Sh49"
   },
   "source": [
    "# Question 2\n",
    "(25 points). Write a program that will do the following string formatting tasks:\n",
    "\n",
    "(1) Ask the user to enter two sentences.\n",
    "\n",
    "(2) Make each sentence into a list. Each element in the list should correspond to a word in the sentence. For example, if the sentence is \"Alas! Am I alive? This is my first python program\", the program should print out ['Alas, '!', 'Am', 'I', 'alive, '?', 'This', 'is', 'my', 'first', 'python', 'program'].\n",
    "\n",
    "(3) Compare the two sentences. Print out a list of words that occur in both sentences.\n",
    "\n",
    "(4) Remove any punctuation from the sentence and print it back out. It should remove at least the following characters, but it can remove more: period(“.”), comma (“,”), semicolon (“;”), and colon (“:”)\n",
    "\n",
    "(5) Count the number of vowels in the sentences. Print out each vowel and the number of times it appears in the sentences, such as: a:2, e:1, i:0, etc"
   ]
  },
  {
   "cell_type": "code",
   "execution_count": 47,
   "metadata": {
    "colab": {},
    "colab_type": "code",
    "id": "Y0oOSlsOS0cq"
   },
   "outputs": [
    {
     "name": "stdout",
     "output_type": "stream",
     "text": [
      "Enter first sentence: Hi. What is your name?\n",
      "Enter second sentence: Hi. My name is Vanessa.\n",
      "The first sentence as a list is: ['Hi', '.', 'What', 'is', 'your', 'name', '?']\n",
      "The second sentence as a list is: ['Hi', '.', 'My', 'name', 'is', 'Vanessa', '.']\n",
      "List of words that occur in both sentences is: ['Hi', '.', 'is', 'name']\n",
      "Sentence 1 without punctuation is: Hi What is your name\n",
      "Sentence 2 without punctuation is: Hi My name is Vanessa\n",
      "The count of vowels in both sentences is: {'i': 4, 'a': 5, 'o': 1, 'u': 1, 'e': 3}\n"
     ]
    }
   ],
   "source": [
    "# Your code here\n",
    "\n",
    "import re\n",
    "\n",
    "def string_formatting():\n",
    "    \n",
    "    # (1) Asking user to enter two sentences.\n",
    "    sentence_1 = input('Enter first sentence: ')\n",
    "    sentence_2 = input('Enter second sentence: ')\n",
    "\n",
    "    # (2) Making each sentence into a list and printing it out.\n",
    "    elements_1 = re.findall(r\"[\\w']+|[.,!?;]\", sentence_1)\n",
    "    elements_2 = re.findall(r\"[\\w']+|[.,!?;]\", sentence_2)\n",
    "    print('The first sentence as a list is:', elements_1)\n",
    "    print('The second sentence as a list is:', elements_2)\n",
    "    \n",
    "    # (3) Printing out of list of words that occur in both sentences.\n",
    "    words_in_both = []\n",
    "    for element in elements_1:\n",
    "        if element in elements_2:\n",
    "            words_in_both.append(element)    \n",
    "    print('List of words that occur in both sentences is:', words_in_both)\n",
    "    \n",
    "    # (4) Removing punctuation from the sentences and printing them back out.\n",
    "    punctuation = '''!()-[]{};:'\"\\,<>./?@#$%^&*_~'''\n",
    "\n",
    "    for element in sentence_1:  \n",
    "        if element in punctuation:  \n",
    "            sentence_1 = sentence_1.replace(element, \"\")  \n",
    "    print('Sentence 1 without punctuation is:', sentence_1)\n",
    "    \n",
    "    for element in sentence_2:  \n",
    "        if element in punctuation:  \n",
    "            sentence_2 = sentence_2.replace(element, \"\")  \n",
    "    print('Sentence 2 without punctuation is:', sentence_2)\n",
    "    \n",
    "    # (5) Printing out each vowel and the number of times it appears in the sentences.\n",
    "    vowels_in_sentences = {}\n",
    "    vowels = ['a', 'e', 'i', 'o', 'u']\n",
    "    \n",
    "    for character in sentence_1:\n",
    "        if character in vowels:\n",
    "            if character in vowels_in_sentences:\n",
    "                vowels_in_sentences[character] = vowels_in_sentences[character] + 1\n",
    "            else:\n",
    "                vowels_in_sentences[character] = 1\n",
    "            \n",
    "    for character in sentence_2:\n",
    "        if character in vowels:\n",
    "            if character in vowels_in_sentences:\n",
    "                vowels_in_sentences[character] = vowels_in_sentences[character] + 1\n",
    "            else:\n",
    "                vowels_in_sentences[character] = 1\n",
    "    print('The count of vowels in both sentences is:', vowels_in_sentences)\n",
    "\n",
    "string_formatting()"
   ]
  },
  {
   "cell_type": "markdown",
   "metadata": {
    "colab_type": "text",
    "id": "CmFoI4jDS9nx"
   },
   "source": [
    "# Question 3 \n",
    "\n",
    "(15 points). The formula that describes the volume V of a sphere with radius r is the following:\n",
    "\n",
    "$ V=\\frac{4}{3}\\ast\\ \\pi\\ast\\ r^3 $\n",
    "\n",
    "Write a program to calculate the value of V when r is in the range of 1–10. Output the result in the following format:\n",
    "\n",
    "\tr\tV\n",
    "\t1\t…\n",
    "\t2\t…\n",
    "\t3\t…\n"
   ]
  },
  {
   "cell_type": "code",
   "execution_count": 48,
   "metadata": {
    "colab": {},
    "colab_type": "code",
    "id": "pEyqeioAT95b"
   },
   "outputs": [
    {
     "name": "stdout",
     "output_type": "stream",
     "text": [
      "r   V\n",
      "1   4.1887902047863905\n",
      "2   33.510321638291124\n",
      "3   113.09733552923254\n",
      "4   268.082573106329\n",
      "5   523.5987755982989\n",
      "6   904.7786842338603\n",
      "7   1436.7550402417319\n",
      "8   2144.660584850632\n",
      "9   3053.6280592892786\n",
      "10   4188.790204786391\n"
     ]
    }
   ],
   "source": [
    "# Your code here\n",
    "import math\n",
    "def Volume_of_sphere():\n",
    "    r = range(1, 11)\n",
    "    print('r', ' ', 'V')\n",
    "    for i in r:\n",
    "        V = (4/3) * math.pi * (i**3)\n",
    "        print(i, ' ', V)\n",
    "\n",
    "Volume_of_sphere()"
   ]
  },
  {
   "cell_type": "markdown",
   "metadata": {
    "colab_type": "text",
    "id": "z3tBE7E-Xn5X"
   },
   "source": [
    "# Question 4\n",
    "\n",
    "(40 points). In the field of Data Science, data is often formatted as a comma-delimited (CSV) file, where each line in a file corresponds to a field's value. Refer to Chapter 9 (p. 106) for more information on comma-delimited files. To answer this question, you will need to download the file [Assignment1_denton_housing.csv](https://github.com/unt-iialab/INFO5731_FALL2020/blob/master/Assignments/Assignment1_denton_housing.csv) included with this assignment. The [file Assignment1_denton_housing.csv](https://github.com/unt-iialab/INFO5731_FALL2020/blob/master/Assignments/Assignment1_denton_housing.csv) contains statistics about housing in the city of Denton from 2008 to 2014. Write a program to implement the following questions.\n",
    "\n",
    "(1) (10 pts) Calculate the difference in the number of Occupied Housing Units from year to year and print it. The difference must be calculated for the consecutive years such as 2008-2009, 2009-2010 etc. Finally, print the values in the ascending order.\n",
    "\n",
    "(2) (10 pts) For all the years, calculate the percentage of housing units which are vacant an occupied. Print the results in the following format:\n",
    "\n",
    "Year Vacant Housing Units Occupied Housing Units\n",
    "\n",
    "    2008  30%   70%                          \n",
    "\t2009 ----- -----\n",
    "\t2010 ----- -----\n",
    "    2011 ----- -----\n",
    "\t2012 ----- -----\n",
    "    2013 ----- -----\n",
    "\t2014 ----- -----\n",
    "  \n",
    "  \n",
    "\n",
    "(3) (10 pts) Calculate and print the valued and years in which the highest number of housing units were vacant and occupied. Print the results in the following format:  \n",
    "\n",
    "                              Year\tValue\n",
    "\tVacant Housing Units\t  -----   -----\n",
    "\tOccupied Housing Units\t-----   -----\n",
    "\n",
    "(4) (10 pts) Calculate the harmonic mean of the total housing units and print it out. You can find the information about harmonic mean here: https://ncalculators.com/statistics/harmonic-mean-calculator.htm"
   ]
  },
  {
   "cell_type": "code",
   "execution_count": 49,
   "metadata": {
    "colab": {},
    "colab_type": "code",
    "id": "lqGYuHBhcsRH"
   },
   "outputs": [
    {
     "name": "stdout",
     "output_type": "stream",
     "text": [
      "        years  difference\n",
      "17  2008-2009      -795.0\n",
      "11  2010-2011      -303.0\n",
      "8   2011-2012      1404.0\n",
      "5   2012-2013      1565.0\n",
      "2   2013-2014      2622.0\n",
      "14  2009-2010      5091.0\n",
      "   year  Occupied Housing Units  Vacant Housing Units\n",
      "0  2014               94.269889              5.730111\n",
      "1  2013               91.198212              8.801788\n",
      "2  2012               93.322400              6.677600\n",
      "3  2011               90.620478              9.379522\n",
      "4  2010               91.857444              8.142556\n",
      "5  2009               90.928884              9.071116\n",
      "6  2008               89.117347             10.882653\n",
      "                        year  value\n",
      "Vacant Housing Units    2008   4483\n",
      "Occupied Housing Units  2014  46295\n",
      "The Harmonic Mean of Total Housing Units is: 44398.28543969185\n"
     ]
    }
   ],
   "source": [
    "# Your code here\n",
    "\n",
    "file = 'https://raw.githubusercontent.com/unt-iialab/INFO5731_FALL2020/master/Assignments/Assignment1_denton_housing.csv'\n",
    "import pandas as pd\n",
    "data = pd.read_csv(file, error_bad_lines=False)\n",
    "\n",
    "# (1)\n",
    "\n",
    "def OHU():\n",
    "    OHU = data['title_field'] == \"Occupied Housing Units\"\n",
    "    OHU = pd.DataFrame(data[OHU])\n",
    "    OHU['years'] = ['2013-2014', '2012-2013', '2011-2012', '2010-2011', '2009-2010', '2008-2009', 'NaN']\n",
    "    OHU['difference'] = OHU['value'] - OHU['value'].shift(-1)\n",
    "    OHU_difference = OHU[['years', 'difference']].iloc[:-1]\n",
    "    OHU_difference = OHU_difference.sort_values(by=['difference'])\n",
    "    print(OHU_difference)\n",
    "\n",
    "OHU()\n",
    "\n",
    "# (2)\n",
    "\n",
    "def percentage_of_housing_units():\n",
    "    # Separating occupied, vacant and total housing units.\n",
    "    OHU = data['title_field'] == \"Occupied Housing Units\"\n",
    "    VHU = data['title_field'] == \"Vacant Housing Units\"\n",
    "    THU = data['title_field'] == \"Total Housing Units\"\n",
    "    \n",
    "    # Creating dataframes for all types of housing units.\n",
    "    OHU = pd.DataFrame(data[OHU])\n",
    "    VHU = pd.DataFrame(data[VHU])\n",
    "    THU = pd.DataFrame(data[THU])\n",
    "    \n",
    "    # Merging all dataframes to create one dataframe.\n",
    "    df = pd.merge(pd.merge(OHU,VHU,on='year'),THU,on='year')\n",
    "    \n",
    "    # Cleaning the dataframe.\n",
    "    df = df.rename(columns={\"value_x\": \"OHU\", \"value_y\": \"VHU\", \"value\":\"THU\"})\n",
    "    df = df.drop(['title_field_x', 'title_field_y', 'title_field'], axis = 1) \n",
    "    \n",
    "    # Calculating the percentages.\n",
    "    df['Occupied Housing Units'] = (df['OHU']/df['THU'])*100\n",
    "    df['Vacant Housing Units'] = (df['VHU']/df['THU'])*100\n",
    "    \n",
    "    # Dropping unnecessary columns.\n",
    "    df = df.drop(['OHU', 'VHU', 'THU'], axis = 1) \n",
    "    \n",
    "    print(df)\n",
    "\n",
    "percentage_of_housing_units()\n",
    "\n",
    "# (3)\n",
    "\n",
    "def highest_values():\n",
    "    # Separating occupied and vacant housing units.\n",
    "    OHU = data['title_field'] == \"Occupied Housing Units\"\n",
    "    VHU = data['title_field'] == \"Vacant Housing Units\"\n",
    "\n",
    "    # Creating dataframes for the two types of housing units.\n",
    "    OHU = pd.DataFrame(data[OHU])\n",
    "    VHU = pd.DataFrame(data[VHU])\n",
    "    \n",
    "    # Cleaning the dataframes.\n",
    "    OHU = OHU.drop(['title_field'], axis = 1)\n",
    "    VHU = VHU.drop(['title_field'], axis = 1)\n",
    "    \n",
    "    # Getting rows with maximum values of occupied and vacant housing units.\n",
    "    df1 = VHU[VHU.value == VHU.value.max()] \n",
    "    df2 = OHU[OHU.value == OHU.value.max()] \n",
    "    \n",
    "    # Creating a dataframe with rows of maximum values of occupied and vacant housing units.\n",
    "    df = pd.concat([df1, df2])\n",
    "    df = df.rename(index={df.index[0]: 'Vacant Housing Units', df.index[1]: 'Occupied Housing Units'})\n",
    "    \n",
    "    print(df)\n",
    "\n",
    "highest_values()\n",
    "\n",
    "# (4)\n",
    "\n",
    "def harmonic_mean():\n",
    "    # # Separating total housing units and creating a dataframe.\n",
    "    THU = data['title_field'] == 'Total Housing Units'\n",
    "    THU = pd.DataFrame(data[THU])\n",
    "    \n",
    "    # Numerator = number of samples.\n",
    "    n = len(THU['value'])       \n",
    "    # Creating a list which will store values of 1/xi.\n",
    "    denominator = []  \n",
    "    # Finding 1/xi where xi is the value of total housing units for each year\n",
    "    for i in range(n):\n",
    "        d = 1/THU['value'].iloc[i]\n",
    "        denominator.append(d)\n",
    "    # Calculating harmonic mean which is n divided by sum of all values of 1/xi.\n",
    "    h_mean = n/sum(denominator)\n",
    "    print ('The Harmonic Mean of Total Housing Units is:', h_mean)\n",
    "        \n",
    "harmonic_mean()"
   ]
  },
  {
   "cell_type": "code",
   "execution_count": null,
   "metadata": {},
   "outputs": [],
   "source": []
  }
 ],
 "metadata": {
  "colab": {
   "collapsed_sections": [],
   "name": "INFO5731_Assignment_One.ipynb",
   "provenance": []
  },
  "kernelspec": {
   "display_name": "Python 3",
   "language": "python",
   "name": "python3"
  },
  "language_info": {
   "codemirror_mode": {
    "name": "ipython",
    "version": 3
   },
   "file_extension": ".py",
   "mimetype": "text/x-python",
   "name": "python",
   "nbconvert_exporter": "python",
   "pygments_lexer": "ipython3",
   "version": "3.8.3"
  }
 },
 "nbformat": 4,
 "nbformat_minor": 1
}
